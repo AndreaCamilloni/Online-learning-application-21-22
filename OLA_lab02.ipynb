{
  "nbformat": 4,
  "nbformat_minor": 0,
  "metadata": {
    "colab": {
      "name": "OLA lab02.ipynb",
      "provenance": [],
      "collapsed_sections": [],
      "authorship_tag": "ABX9TyODEDrWKmYrVjIywUSV7EsP",
      "include_colab_link": true
    },
    "kernelspec": {
      "name": "python3",
      "display_name": "Python 3"
    },
    "language_info": {
      "name": "python"
    }
  },
  "cells": [
    {
      "cell_type": "markdown",
      "metadata": {
        "id": "view-in-github",
        "colab_type": "text"
      },
      "source": [
        "<a href=\"https://colab.research.google.com/github/AndreaCamilloni/Online-learning-application-21-22/blob/main/OLA_lab02.ipynb\" target=\"_parent\"><img src=\"https://colab.research.google.com/assets/colab-badge.svg\" alt=\"Open In Colab\"/></a>"
      ]
    },
    {
      "cell_type": "markdown",
      "source": [
        "# Hungarian algorithm"
      ],
      "metadata": {
        "id": "mxo9_ETEDP05"
      }
    },
    {
      "cell_type": "code",
      "execution_count": null,
      "metadata": {
        "id": "yBbes73JWFQJ"
      },
      "outputs": [],
      "source": [
        "import numpy as np\n",
        "from scipy.optimize import linear_sum_assignment\n"
      ]
    },
    {
      "cell_type": "code",
      "source": [
        "def step1(m):\n",
        "  for i in range(m.shape[0]):\n",
        "    m[i,:] = m[i,:] - np.min(m[i,:])\n",
        "\n",
        "def step2(m):\n",
        "  for i in range(m.shape[1]):\n",
        "    m[:,i] = m[:,i] - np.min(m[:,i])"
      ],
      "metadata": {
        "id": "PXM3ne5eWSFb"
      },
      "execution_count": null,
      "outputs": []
    },
    {
      "cell_type": "code",
      "source": [
        "def step3(m):\n",
        "  dim = m.shape[0]\n",
        "  assigned = np.array([])\n",
        "  assignments = np.zeros(m.shape, dtype = int)\n",
        "\n",
        "  for i in range(0, dim):\n",
        "    for j in range(0, dim):\n",
        "      if(m[i,j]==0 and np.sum(assignments[:,j])==0 and np.sum(assignments[i,:])==0):\n",
        "        assignments[i,j] = 1\n",
        "        assigned = np.append(assigned,i)\n",
        "  rows = np.linspace(0, dim-1, dim).astype(int)\n",
        "  marked_rows = np.setdiff1d(rows,assigned)\n",
        "  new_marked_rows = marked_rows.copy()\n",
        "  marked_cols = np.array([])\n",
        "\n",
        "  while(len(new_marked_rows)>0):\n",
        "    new_marked_cols = np.array([], dtype = int)\n",
        "    for nr in new_marked_rows:\n",
        "      zeros_cols = np.argwhere(m[nr,:]==0).reshape(-1)\n",
        "      new_marked_cols = np.append(new_marked_cols, np.setdiff1d(zeros_cols, marked_cols))\n",
        "    marked_cols = np.append(marked_cols, new_marked_cols)\n",
        "    new_marked_rows = np.array([], dtype = int)\n",
        "  \n",
        "    for nc in new_marked_cols:\n",
        "      new_marked_rows = np.append(new_marked_rows, np.argwhere(assignments[:,nc]==1).reshape(-1))\n",
        "    marked_rows = np.unique(np.append(marked_rows, new_marked_rows))\n",
        "  return np.setdiff1d(rows, marked_rows).astype(int), np.unique(marked_cols)"
      ],
      "metadata": {
        "id": "Y_cfR64oX0Ye"
      },
      "execution_count": null,
      "outputs": []
    },
    {
      "cell_type": "code",
      "source": [
        "def step5(m, covered_rows, covered_cols):\n",
        "  uncovered_rows= np.setdiff1d(np.linspace(0, m.shape[0]-1, m.shape[0]), covered_rows).astype(int)\n",
        "  uncovered_cols= np.setdiff1d(np.linspace(0, m.shape[1]-1, m.shape[1]), covered_cols).astype(int)\n",
        "  min_val = np.max(m)\n",
        "  for i in uncovered_rows.astype(int):\n",
        "    for j in uncovered_cols.astype(int):\n",
        "      if(m[i,j]<min_val):\n",
        "        min_val = m[i,j]\n",
        "  \n",
        "  for i in uncovered_rows.astype(int):\n",
        "    m[i,:] -= min_val\n",
        "  \n",
        "  for j in covered_cols.astype(int):\n",
        "    m[:,j] += min_val\n",
        "  \n",
        "  return m"
      ],
      "metadata": {
        "id": "Xx0m7xdQ37HS"
      },
      "execution_count": null,
      "outputs": []
    },
    {
      "cell_type": "code",
      "source": [
        "def find_rows_single_zero(matrix):\n",
        "   for i in range(0, matrix.shape[0]):\n",
        "     if(np.sum(matrix[i,:] == 0) == 1):\n",
        "       j = np.argwhere(matrix[i,:] == 0).reshape(-1)[0]\n",
        "       return i, j\n",
        "     return False\n",
        "\n",
        "def find_cols_single_zero(matrix):\n",
        "   for i in range(0, matrix.shape[1]):\n",
        "     if(np.sum(matrix[:,i] == 0) == 1):\n",
        "       j = np.argwhere(matrix[:,i] == 0).reshape(-1)[0]\n",
        "       return i, j\n",
        "     return False\n",
        "\n",
        "\n",
        "def assignment_single_zero_lines(m, assignment):\n",
        "  val = find_rows_single_zero(m)\n",
        "  while(val):\n",
        "    i,j = val[0], val[1]\n",
        "    m[i,j] +=1\n",
        "    m[:,j] +=1\n",
        "    assignment[i,j] = 1\n",
        "    val = find_rows_single_zero(m)\n",
        "  \n",
        "  val = find_cols_single_zero(m)\n",
        "  while(val):\n",
        "    i,j = val[0], val[1]\n",
        "    m[i,:] +=1\n",
        "    m[i,j] +=1\n",
        "    assignment[i,j] = 1\n",
        "    val = find_cols_single_zero(m)\n",
        "  return assignment\n",
        "\n",
        "def first_zero(m):\n",
        "  return np.argwhere(m==0)[0][0], np.argwhere(m==0)[0][1]\n",
        "def final_assignment(initial_matrix, m ):\n",
        "  assignment = np.zeros(m.shape, dtype = int)\n",
        "  assignment = assignment_single_zero_lines(m, assignment)\n",
        "  while(np.sum(m==0)>0):\n",
        "    i,j = first_zero(m)\n",
        "    assignment[i,j] = 1\n",
        "    m[i,:] += 1\n",
        "    m[:,j] += 1\n",
        "    assignment = assignment_single_zero_lines(m, assignment)\n",
        "  \n",
        "  return assignment * initial_matrix, assignment\n",
        "\n",
        "def hungarian_alg(matrix):\n",
        "  m = matrix.copy()\n",
        "  step1(m)\n",
        "  step2(m)\n",
        "  n_lines = 0\n",
        "  max_lenght = np.maximum(m.shape[0], m.shape[1])\n",
        "  while n_lines!= max_lenght:\n",
        "    lines = step3(m)\n",
        "    n_lines = len(lines[0]) + len(lines[1])\n",
        "    if(n_lines != max_lenght):\n",
        "      step5(m, lines[0], lines[1])\n",
        "  return final_assignment(matrix, m)\n",
        "\n"
      ],
      "metadata": {
        "id": "uScIWAS26O6w"
      },
      "execution_count": null,
      "outputs": []
    },
    {
      "cell_type": "code",
      "source": [
        "a = np.random.randint(100, size = (3,3))\n",
        "res = hungarian_alg(a)\n",
        "print(\"\\n optimal matchin: \\n\", res[1], \"\\n value: \", np.sum(res[0]))"
      ],
      "metadata": {
        "colab": {
          "base_uri": "https://localhost:8080/"
        },
        "id": "nkl-1y9C8Fhi",
        "outputId": "d38d40e3-b329-4707-da31-cb0de25030e1"
      },
      "execution_count": null,
      "outputs": [
        {
          "output_type": "stream",
          "name": "stdout",
          "text": [
            "\n",
            " optimal matchin: \n",
            " [[1 0 0]\n",
            " [0 0 1]\n",
            " [0 0 0]] \n",
            " value:  59\n"
          ]
        }
      ]
    },
    {
      "cell_type": "markdown",
      "source": [
        "# CUSUM-UCB for Online Matching in Non-Stationary Environments"
      ],
      "metadata": {
        "id": "7KIK78blUnn2"
      }
    },
    {
      "cell_type": "code",
      "source": [
        "import numpy as np\n",
        "\n",
        "class learner:\n",
        "  def __init__(self,n_arms):\n",
        "    self.t = 0\n",
        "    self.n_arms = n_arms\n",
        "    self.rewards = []\n",
        "    self.reward_per_arm = [[] for _ in range(n_arms)]\n",
        "\n",
        "  def reset(self):\n",
        "    self.__init__(self.n_arms, self.prices)\n",
        "  def act(self):\n",
        "    pass\n",
        "  \n",
        "  def update(self, arm_pulled, reward):\n",
        "    self.t += 1\n",
        "    self.rewards.append(reward)\n",
        "    self.reward_per_arm[arm_pulled].append(reward)\n"
      ],
      "metadata": {
        "id": "wqeoaDhBUqIm"
      },
      "execution_count": null,
      "outputs": []
    },
    {
      "cell_type": "code",
      "source": [
        "class UCB(learner):\n",
        "  def __init__(self,n_arms):\n",
        "    super().__init__(n_arms)\n",
        "    self.empirical_means = np.zeros(n_arms)\n",
        "    self.confidence = np.array([np.inf]*n_arms)\n",
        "\n",
        "  def pull_arm(self):\n",
        "    upper_conf = self.empirical_means + self.confidence\n",
        "    return np.random.choice(np.where(upper_conf == upper_conf.max())[0])\n",
        "\n",
        "  def update(self, pull_arm, reward):\n",
        "    self.t += 1\n",
        "    self.empirical_means[pull_arm] = (self.empirical_means[pull_arm]*(self.t-1) + reward)/self.t\n",
        "    for a in range(self.n_arms):\n",
        "      n_samples = len(self.rewards_per_arm[a])\n",
        "      self.confidence[a] = (2*np.log(self.t)/n_samples)**0.5 if n_samples > 0 else np.inf\n",
        "    self.update_observations(pull_arm, reward)\n",
        "  \n",
        "   "
      ],
      "metadata": {
        "id": "47pt0sTxU6Zx"
      },
      "execution_count": null,
      "outputs": []
    },
    {
      "cell_type": "code",
      "source": [
        "class Environment():\n",
        "    def __init__(self,n_arms,probabilities):\n",
        "        self.n_arms = n_arms\n",
        "        self.probabilities = probabilities\n",
        "\n",
        "    def round(self,pulled_arm):\n",
        "        reward = np.random.binomial(1, self.probabilities[pulled_arm])\n",
        "        return reward"
      ],
      "metadata": {
        "id": "azTaAWAFZEhG"
      },
      "execution_count": null,
      "outputs": []
    },
    {
      "cell_type": "code",
      "source": [
        "from scipy.optimize import linear_sum_assignment\n",
        "\n",
        "probs = np.array([[1/4, 1, 1/4], [1/2, 1/4, 1/4], [1/4, 1/4, 1]])\n",
        "costs = -probs\n",
        "\n",
        "print(linear_sum_assignment(costs))"
      ],
      "metadata": {
        "colab": {
          "base_uri": "https://localhost:8080/"
        },
        "id": "qa-kKNmJW5d-",
        "outputId": "cebd338a-dc6a-4a47-d50b-a0ba09878ab3"
      },
      "execution_count": null,
      "outputs": [
        {
          "output_type": "stream",
          "name": "stdout",
          "text": [
            "(array([0, 1, 2]), array([1, 0, 2]))\n"
          ]
        }
      ]
    },
    {
      "cell_type": "code",
      "source": [
        "class UCB_Matching(UCB):\n",
        "  def __init__(self, n_arms, n_rows, n_cols):\n",
        "    super().__init__(n_arms)\n",
        "    self.n_rows = n_rows\n",
        "    self.n_cols = n_cols\n",
        "    assert n_arms == n_cols * n_rows\n",
        "  \n",
        "  def pull_arm(self):\n",
        "    upper_conf = self.empirical_means + self.confidence\n",
        "    upper_conf[np.isinf(upper_conf)] = 1e3\n",
        "    row_ind, col_ind = linear_sum_assignment(-upper_conf.reshape(self.n_rows, self.n_cols))\n",
        "    return (row_ind, col_ind)\n",
        "  \n",
        "  def update(self, pulled_arms, rewards):\n",
        "    self.t += 1\n",
        "    pulled_arm_flat = np.ravel_multi_index(pulled_arms, (self.n_rows, self.n_cols))\n",
        "    for a in range(self.n_arms):\n",
        "      n_samples = len(self.reward_per_arm[a])\n",
        "      self.confidence[a] = (2*np.log(self.t)/n_samples)**0.5 if n_samples > 0 else np.inf\n",
        "    \n"
      ],
      "metadata": {
        "id": "8zOKg8DlXRHH"
      },
      "execution_count": null,
      "outputs": []
    },
    {
      "cell_type": "code",
      "source": [
        "if __name__ == '__main__':\n",
        "  import matplotlib.pyplot as plt\n",
        "\n",
        "  p = np.array([[1/4, 1, 1/4], [1/2, 1/4, 1/4], [1/4, 1/4, 1]])\n",
        "  opt = linear_sum_assignment(-p)\n",
        "  n_exp=10\n",
        "  T = 3000\n",
        "  regret_ucb = np.zeros((n_exp, T))\n",
        "  for e in range(n_exp):\n",
        "    learner = UCB_Matching(p.size, *p.shape)\n",
        "    print(e)\n",
        "    rew_UCB = []\n",
        "    opt_rew = []\n",
        "    env = Environment(p.size, p)\n",
        "    for t in range(T):\n",
        "      pulled_arms = learner.pull_arm()\n",
        "      rewards = env.round(pulled_arms)\n",
        "      learner.update(pulled_arms, rewards)\n",
        "      rew_UCB.append(rewards.sum())\n",
        "      opt_rew.append(p[opt].sum())\n",
        "    regret_ucb[e,:] = np.cumsum(opt_rew)-np.cumsum(rew_UCB)\n",
        "\n",
        "  plt.plot(regret_ucb.mean(axis=0))\n",
        "  plt.show()\n",
        "\n"
      ],
      "metadata": {
        "colab": {
          "base_uri": "https://localhost:8080/",
          "height": 439
        },
        "id": "iOOHRGASY1yD",
        "outputId": "59003429-4375-453d-b3e7-bd1c7a4a5501"
      },
      "execution_count": null,
      "outputs": [
        {
          "output_type": "stream",
          "name": "stdout",
          "text": [
            "0\n",
            "1\n",
            "2\n",
            "3\n",
            "4\n",
            "5\n",
            "6\n",
            "7\n",
            "8\n",
            "9\n"
          ]
        },
        {
          "output_type": "display_data",
          "data": {
            "text/plain": [
              "<Figure size 432x288 with 1 Axes>"
            ],
            "image/png": "[encoded data removed]"
          },
          "metadata": {
            "needs_background": "light"
          }
        }
      ]
    },
    {
      "cell_type": "code",
      "source": [
        ""
      ],
      "metadata": {
        "id": "nQH4QiUraZxa"
      },
      "execution_count": null,
      "outputs": []
    }
  ]
}
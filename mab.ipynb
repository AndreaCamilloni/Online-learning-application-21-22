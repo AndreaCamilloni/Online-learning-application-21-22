{
  "nbformat": 4,
  "nbformat_minor": 0,
  "metadata": {
    "colab": {
      "name": "mab.ipynb",
      "provenance": [],
      "authorship_tag": "ABX9TyN7paIgexwZTxdE3hm2jaah",
      "include_colab_link": true
    },
    "kernelspec": {
      "name": "python3",
      "display_name": "Python 3"
    },
    "language_info": {
      "name": "python"
    }
  },
  "cells": [
    {
      "cell_type": "markdown",
      "metadata": {
        "id": "view-in-github",
        "colab_type": "text"
      },
      "source": [
        "<a href=\"https://colab.research.google.com/github/AndreaCamilloni/Online-learning-application-21-22/blob/main/mab.ipynb\" target=\"_parent\"><img src=\"https://colab.research.google.com/assets/colab-badge.svg\" alt=\"Open In Colab\"/></a>"
      ]
    },
    {
      "cell_type": "code",
      "source": [
        "import numpy as np\n",
        "import matplotlib.pyplot as plt"
      ],
      "metadata": {
        "id": "_UbCUKsYRsjM"
      },
      "execution_count": null,
      "outputs": []
    },
    {
      "cell_type": "code",
      "execution_count": null,
      "metadata": {
        "id": "nxJ3T6HnRUab"
      },
      "outputs": [],
      "source": [
        "class Environment():\n",
        "    def __init__(self,n_arms,probabilities):\n",
        "        self.n_arms = n_arms\n",
        "        self.probabilities = probabilities\n",
        "\n",
        "    def round(self,pulled_arm):\n",
        "        reward = np.random.binomial(1, self.probabilities[pulled_arm])\n",
        "        return reward"
      ]
    },
    {
      "cell_type": "code",
      "source": [
        "class Learner:\n",
        "    def __init__(self, n_arms):\n",
        "        self.n_arms = n_arms\n",
        "        self.t = 0\n",
        "        self.rewards_per_arm = x = [[] for i in range(n_arms)]\n",
        "        self.collected_rewards = np.array([])\n",
        "\n",
        "    def update_observations(self,pulled_arm, reward):\n",
        "        self.rewards_per_arm[pulled_arm].append(reward)\n",
        "        self.collected_rewards = np.append(self.collected_rewards,reward)"
      ],
      "metadata": {
        "id": "olBSTzOvRZj3"
      },
      "execution_count": null,
      "outputs": []
    },
    {
      "cell_type": "code",
      "source": [
        "class TS_Learner(Learner):\n",
        "    def __init__(self,n_arms):\n",
        "        super().__init__(n_arms)\n",
        "        self.beta_parameters = np.ones((n_arms,2))\n",
        "\n",
        "    def pull_arm(self):\n",
        "        idx = np.argmax(np.random.beta(self.beta_parameters[:,0],self.beta_parameters[:,1]))\n",
        "        return idx\n",
        "\n",
        "    def update(self,pulled_arm,reward):\n",
        "        self.t+=1\n",
        "        self.update_observations(pulled_arm,reward)\n",
        "        self.beta_parameters[pulled_arm,0] = self.beta_parameters[pulled_arm,0] + reward\n",
        "        self.beta_parameters[pulled_arm,1] = self.beta_parameters[pulled_arm,1] + 1.0 - reward"
      ],
      "metadata": {
        "id": "B3aA8suzRZf3"
      },
      "execution_count": null,
      "outputs": []
    },
    {
      "cell_type": "code",
      "source": [
        "class Greedy_Learner(Learner):\n",
        "    def __init__(self,n_arms):\n",
        "        super().__init__(n_arms)\n",
        "        self.expected_rewards = np.zeros(n_arms)\n",
        "\n",
        "    def pull_arm(self):\n",
        "        if(self.t < self.n_arms):\n",
        "            return self.t\n",
        "        \n",
        "        idxs = np.argwhere(self.expected_rewards == self.expected_rewards.max()).reshape(-1)\n",
        "        pulled_arm = np.random.choice(idxs)\n",
        "        return pulled_arm\n",
        "\n",
        "    def update(self,pulled_arm,reward):\n",
        "        self.t+=1\n",
        "        self.update_observations(pulled_arm, reward)\n",
        "        self.expected_rewards[pulled_arm] = (self.expected_rewards[pulled_arm]*(self.t -1) + reward) / self.t\n",
        "        "
      ],
      "metadata": {
        "id": "wbH9vPclRZbo"
      },
      "execution_count": null,
      "outputs": []
    },
    {
      "cell_type": "code",
      "source": [
        "n_arms = 4\n",
        "p = np.array([0.15,0.1,0.1,0.35]) #bernulli distribution for the reward function of the arms\n",
        "opt = p[3]\n",
        "\n",
        "T = 300\n",
        "\n",
        "n_experiments = 1000\n",
        "ts_rewards_per_experiment = []\n",
        "gr_rewards_per_experiment = []\n",
        "\n",
        "for e in range(0,n_experiments):\n",
        "    env = Environment(n_arms, p)\n",
        "    ts_learner = TS_Learner(n_arms)\n",
        "    gr_learner = Greedy_Learner(n_arms)\n",
        "    for t in range(0,T):\n",
        "        #Thompson sampling learner\n",
        "        pulled_arm = ts_learner.pull_arm()\n",
        "        reward = env.round(pulled_arm)\n",
        "        ts_learner.update(pulled_arm, reward)\n",
        "        #Greedy learner\n",
        "        pulled_arm = gr_learner.pull_arm()\n",
        "        reward = env.round(pulled_arm)\n",
        "        gr_learner.update(pulled_arm, reward)\n",
        "\n",
        "    ts_rewards_per_experiment.append(ts_learner.collected_rewards)\n",
        "    gr_rewards_per_experiment.append(gr_learner.collected_rewards)\n",
        "\n",
        "\n",
        "plt.figure(0)\n",
        "plt.xlabel(\"t\")\n",
        "plt.ylabel(\"Regret\")\n",
        "plt.plot(np.cumsum(np.mean(opt-ts_rewards_per_experiment, axis=0)), color = 'r')\n",
        "plt.plot(np.cumsum(np.mean(opt-gr_rewards_per_experiment, axis=0)), color = 'g')\n",
        "plt.legend([\"TS\",\"Greedy\"])\n",
        "plt.show()"
      ],
      "metadata": {
        "colab": {
          "base_uri": "https://localhost:8080/",
          "height": 279
        },
        "id": "CVYqkOECRZW5",
        "outputId": "5f4b5b1a-0184-4392-b04f-35515a82d77d"
      },
      "execution_count": null,
      "outputs": [
        {
          "output_type": "display_data",
          "data": {
            "text/plain": [
              "<Figure size 432x288 with 1 Axes>"
            ],
            "image/png": "[encoded data removed]"
          },
          "metadata": {
            "needs_background": "light"
          }
        }
      ]
    },
    {
      "cell_type": "code",
      "source": [
        ""
      ],
      "metadata": {
        "id": "kIQExOwrRZL5"
      },
      "execution_count": null,
      "outputs": []
    }
  ]
}
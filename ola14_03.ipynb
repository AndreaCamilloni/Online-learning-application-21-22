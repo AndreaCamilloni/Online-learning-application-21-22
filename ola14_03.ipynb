{
  "nbformat": 4,
  "nbformat_minor": 0,
  "metadata": {
    "colab": {
      "name": "ola14-03.ipynb",
      "provenance": [],
      "authorship_tag": "ABX9TyOO2z6A003T29H3d+F/8yRW",
      "include_colab_link": true
    },
    "kernelspec": {
      "name": "python3",
      "display_name": "Python 3"
    },
    "language_info": {
      "name": "python"
    }
  },
  "cells": [
    {
      "cell_type": "markdown",
      "metadata": {
        "id": "view-in-github",
        "colab_type": "text"
      },
      "source": [
        "<a href=\"https://colab.research.google.com/github/AndreaCamilloni/Online-learning-application-21-22/blob/main/ola14_03.ipynb\" target=\"_parent\"><img src=\"https://colab.research.google.com/assets/colab-badge.svg\" alt=\"Open In Colab\"/></a>"
      ]
    },
    {
      "cell_type": "code",
      "execution_count": null,
      "metadata": {
        "id": "HDZU_CjESk8b"
      },
      "outputs": [],
      "source": [
        "import numpy as np\n",
        "import matplotlib.pyplot as plt"
      ]
    },
    {
      "cell_type": "code",
      "source": [
        "class env:\n",
        "  def __init__(self,probs,prices):\n",
        "    self.prices = prices\n",
        "    self.probs=probs\n",
        "  \n",
        "  def round(self, arm_pulled):\n",
        "    conv = np.random.binomial(n=1, p=self.probs[arm_pulled])\n",
        "    reward = conv*self.prices[arm_pulled]\n",
        "    return reward\n",
        "  "
      ],
      "metadata": {
        "id": "udb7HkuhSrKz"
      },
      "execution_count": null,
      "outputs": []
    },
    {
      "cell_type": "code",
      "source": [
        "class learner:\n",
        "  def __init__(self,n_arms):\n",
        "    self.t = 0\n",
        "    self.n_arms = n_arms\n",
        "    self.rewards = []\n",
        "    self.reward_per_arm = [[] for _ in range(n_arms)]\n",
        "\n",
        "  def reset(self):\n",
        "    self.__init__(self.n_arms, self.prices)\n",
        "  def act(self):\n",
        "    pass\n",
        "  \n",
        "  def update(self, arm_pulled, reward):\n",
        "    self.t += 1\n",
        "    self.rewards.append(reward)\n",
        "    self.reward_per_arm[arm_pulled].append(reward)"
      ],
      "metadata": {
        "id": "3v5v9IE7S826"
      },
      "execution_count": null,
      "outputs": []
    },
    {
      "cell_type": "code",
      "source": [
        "class ucb(learner):\n",
        "  def __init__(self,n_arms, prices):\n",
        "    super().__init__(n_arms)\n",
        "    self.means = np.zeros(n_arms)\n",
        "    self.widths = np.array([np.inf for _ in range(n_arms)]) #we set them inittialy to +infinite, so we can explore all the initial bound\n",
        "    self.prices = prices\n",
        "  \n",
        "  def act(self):\n",
        "    idx = np.argmax((self.means + self.widths)*self.prices) #select the arm w/ high confidence bound\n",
        "    return idx\n",
        "\n",
        "  def update(self, arm_pulled, reward):\n",
        "    reward = reward>0\n",
        "    super().update(arm_pulled, reward) \n",
        "    self.means[arm_pulled] = np.mean(self.reward_per_arm[arm_pulled])\n",
        "    for idx in range(self.n_arms):\n",
        "      n = len(self.reward_per_arm[idx])\n",
        "      if n>0:\n",
        "        self.widths[idx] = np.sqrt(2*np.log(self.t)/n)\n",
        "      else:\n",
        "        self.widths[idx] = np.inf\n",
        "  \n",
        "#we use the upper confidence bound for inequality"
      ],
      "metadata": {
        "id": "s3eh7CNaTlc8"
      },
      "execution_count": null,
      "outputs": []
    },
    {
      "cell_type": "code",
      "source": [
        "p = [0.5, .1, .2, .9]\n",
        "prices = [100, 400, 600, 60]\n",
        "\n",
        "pricing_env = env(p,prices)\n",
        "ag1 = ucb(len(p), prices)\n",
        "T = 1000\n",
        "opt = np.max([a*b for a,b in zip(p, prices)])\n",
        "N_exp = 50\n",
        "R = []\n",
        "\n",
        "for _ in range(N_exp):\n",
        "  instant_regret = []\n",
        "  ag1.reset()\n",
        "  for t in range(T):\n",
        "    pulled_arm = ag1.act()\n",
        "    rew = pricing_env.round(pulled_arm)\n",
        "    ag1.update(pulled_arm, rew)\n",
        "    instant_regret.append(opt - rew)\n",
        "  cumulative_regret = np.cumsum(instant_regret)\n",
        "  R.append(cumulative_regret)\n",
        "R = np.array(R)\n",
        "mean_R = np.mean(R, axis = 0)\n",
        "std_dev = np.std(R, axis=0)/np.sqrt(N_exp)"
      ],
      "metadata": {
        "id": "MPUm1y4zUpjg"
      },
      "execution_count": null,
      "outputs": []
    },
    {
      "cell_type": "code",
      "source": [
        "plt.plot(mean_R)\n",
        "plt.fill_between(range(T),mean_R-std_dev, mean_R+std_dev, alpha=0.4)"
      ],
      "metadata": {
        "colab": {
          "base_uri": "https://localhost:8080/",
          "height": 285
        },
        "id": "Jgq32DqWfznv",
        "outputId": "d705474d-73b2-4def-f3a8-8ccae5677420"
      },
      "execution_count": null,
      "outputs": [
        {
          "output_type": "execute_result",
          "data": {
            "text/plain": [
              "<matplotlib.collections.PolyCollection at 0x7ff2b7b02890>"
            ]
          },
          "metadata": {},
          "execution_count": 45
        },
        {
          "output_type": "display_data",
          "data": {
            "text/plain": [
              "<Figure size 432x288 with 1 Axes>"
            ],
            "image/png": "[encoded data removed]"
          },
          "metadata": {
            "needs_background": "light"
          }
        }
      ]
    },
    {
      "cell_type": "markdown",
      "source": [
        "# 2nd Lab\n",
        "(non stationarity) "
      ],
      "metadata": {
        "id": "1i6RrhFZq9Ca"
      }
    },
    {
      "cell_type": "code",
      "source": [
        "class non_stat_env:\n",
        "    def __init__(self, n_arms, proba_matrix, horizon):\n",
        "        self.n_arms = n_arms\n",
        "        self.proba_matrix = proba_matrix\n",
        "        self.horizon = horizon\n",
        "        self.n_changes = len(proba_matrix)\n",
        "        self.inner_horizon = self.horizon // self.n_changes\n",
        "        self.t = 0\n",
        "        self.phase = 0\n",
        "\n",
        "    def round(self, pulled_arm):\n",
        "        if self.t > (self.phase + 1) * self.inner_horizon:\n",
        "            self.phase = min(self.phase + 1, self.n_changes - 1)\n",
        "        reward = np.random.binomial(n=1, p=self.proba_matrix[self.phase, pulled_arm])\n",
        "        self.t += 1\n",
        "        return reward\n"
      ],
      "metadata": {
        "id": "ZPCvuDKxh8x1"
      },
      "execution_count": null,
      "outputs": []
    },
    {
      "cell_type": "code",
      "source": [
        "class learner:\n",
        "    def __init__(self, n_arms):\n",
        "        self.t = 0\n",
        "        self.n_arms = n_arms\n",
        "        self.rewards = []\n",
        "        self.reward_per_arm = [[] for _ in range(n_arms)]\n",
        "        self.pulled = []\n",
        "\n",
        "    def act(self):\n",
        "        pass\n",
        "\n",
        "    def update(self, arm_pulled, reward):\n",
        "        self.t += 1\n",
        "        self.rewards.append(reward)\n",
        "        self.reward_per_arm[arm_pulled].append(reward)\n",
        "        self.pulled.append(arm_pulled)\n"
      ],
      "metadata": {
        "id": "8lQ5Dp5yvX9L"
      },
      "execution_count": null,
      "outputs": []
    },
    {
      "cell_type": "code",
      "source": [
        "class SW_TS(learner):\n",
        "    def __init__(self, n_arms, window_size):\n",
        "        super().__init__(n_arms)\n",
        "        self.n_arms = n_arms\n",
        "        self.window_size = window_size\n",
        "        self.alphas = np.ones(self.n_arms)\n",
        "        self.betas = np.ones(self.n_arms)\n",
        "        self.t = 0\n",
        "\n",
        "    def reset(self):\n",
        "        self.__init__(self.n_arms, self.window_size)\n",
        "\n",
        "    def update(self, pulled_arm, rewrad):\n",
        "        super().update(pulled_arm, rewrad)\n",
        "        for arm_idx in range(self.n_arms):\n",
        "            n_samples = np.sum(np.array(self.pulled[-self.window_size:]) == arm_idx)\n",
        "            if n_samples == 0:\n",
        "                n_sold = 0\n",
        "            else:\n",
        "                n_sold = np.sum(self.reward_per_arm[arm_idx][-n_samples:])\n",
        "            self.alphas[arm_idx] = n_sold + 1\n",
        "            self.betas[arm_idx] = n_samples - n_sold + 1\n",
        "            assert self.betas[arm_idx] > 0, (arm_idx, self.pulled[-self.window_size:], n_sold)\n",
        "\n",
        "    def act(self):\n",
        "        samples = [np.random.beta(a=self.alphas[i], b=self.betas[i]) for i in range(self.n_arms)]\n",
        "        return np.argmax(samples)\n"
      ],
      "metadata": {
        "id": "JaHka19Ht7pQ"
      },
      "execution_count": null,
      "outputs": []
    },
    {
      "cell_type": "code",
      "source": [
        "p = np.array([[0.5, 0.4, 0.3, 0.2],\n",
        "              [0., 0.5, 0.2, 0.3],\n",
        "              [0.3, 0.2, 0.4, 0.6]])\n",
        "\n",
        "T = 1000\n",
        "n_arms = p.shape[1]\n",
        "env = non_stat_env(n_arms, p, T)\n",
        "window_size = 4 * int(np.sqrt(T))\n",
        "ag1 = SW_TS(n_arms, window_size)\n",
        "opt = np.max(p, axis=1)\n",
        "N_exp = 5\n",
        "\n",
        "R = []\n",
        "for _ in range(N_exp):\n",
        "    instant_regret = []\n",
        "    ag1.reset()\n",
        "    for t in range(T):\n",
        "        pulled_arm = ag1.act()\n",
        "        rew = env.round(pulled_arm)\n",
        "        ag1.update(pulled_arm, rew)\n",
        "        phase = env.phase\n",
        "        instant_regret.append(opt[phase] - p[phase, pulled_arm])\n",
        "    cumulative_regret = np.cumsum(instant_regret)\n",
        "    R.append(cumulative_regret)\n",
        "mean_R = np.mean(R, axis=0)\n",
        "std_dev = np.std(R, axis=0) / np.sqrt(N_exp)\n",
        "\n",
        "plt.plot(mean_R)\n",
        "plt.fill_between(range(T), mean_R - std_dev, mean_R + std_dev, alpha=0.4)"
      ],
      "metadata": {
        "colab": {
          "base_uri": "https://localhost:8080/",
          "height": 282
        },
        "id": "shxQKnOsxxan",
        "outputId": "6a81ce65-aa47-4560-bcd8-d25ea4d31654"
      },
      "execution_count": null,
      "outputs": [
        {
          "output_type": "execute_result",
          "data": {
            "text/plain": [
              "<matplotlib.collections.PolyCollection at 0x7ff2b7a76c90>"
            ]
          },
          "metadata": {},
          "execution_count": 63
        },
        {
          "output_type": "display_data",
          "data": {
            "text/plain": [
              "<Figure size 432x288 with 1 Axes>"
            ],
            "image/png": "[encoded data removed]"
          },
          "metadata": {
            "needs_background": "light"
          }
        }
      ]
    }
  ]
}